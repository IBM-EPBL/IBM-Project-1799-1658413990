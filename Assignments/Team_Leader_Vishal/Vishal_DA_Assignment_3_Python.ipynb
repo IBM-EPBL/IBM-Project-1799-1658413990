{
  "cells": [
    {
      "cell_type": "markdown",
      "metadata": {
        "id": "fwU2iooz85jt"
      },
      "source": [
        "## Exercises\n",
        "\n",
        "Answer the questions or complete the tasks outlined in bold below, use the specific method described if applicable."
      ]
    },
    {
      "cell_type": "markdown",
      "metadata": {
        "id": "SzBQQ_ml85j1"
      },
      "source": [
        "** What is 7 to the power of 4?**"
      ]
    },
    {
      "cell_type": "code",
      "execution_count": 1,
      "metadata": {
        "id": "UhvE4PBC85j3",
        "outputId": "aa852b8d-c776-4775-8326-c49171aaed06",
        "colab": {
          "base_uri": "https://localhost:8080/"
        }
      },
      "outputs": [
        {
          "output_type": "execute_result",
          "data": {
            "text/plain": [
              "2401"
            ]
          },
          "metadata": {},
          "execution_count": 1
        }
      ],
      "source": [
        "7**4"
      ]
    },
    {
      "cell_type": "markdown",
      "metadata": {
        "id": "ds8G9S8j85j6"
      },
      "source": [
        "** Split this string:**\n",
        "\n",
        "    s = \"Hi there Sam!\"\n",
        "    \n",
        "**into a list. **"
      ]
    },
    {
      "cell_type": "code",
      "execution_count": 27,
      "metadata": {
        "collapsed": true,
        "id": "9eX0xBEiPnHf"
      },
      "outputs": [],
      "source": [
        "s =  \"Hi there Sam!\"\n"
      ]
    },
    {
      "cell_type": "code",
      "execution_count": 28,
      "metadata": {
        "outputId": "5110e5a3-e763-4c56-fc2e-cf171098b480",
        "colab": {
          "base_uri": "https://localhost:8080/"
        },
        "id": "GB0mwMIbPu9N"
      },
      "outputs": [
        {
          "output_type": "execute_result",
          "data": {
            "text/plain": [
              "['Hi', 'there', 'Sam!']"
            ]
          },
          "metadata": {},
          "execution_count": 28
        }
      ],
      "source": [
        "s.split()"
      ]
    },
    {
      "cell_type": "markdown",
      "metadata": {
        "id": "_bBNOu-785j9"
      },
      "source": [
        "** Given the variables:**\n",
        "\n",
        "    planet = \"Earth\"\n",
        "    diameter = 12742\n",
        "\n",
        "** Use .format() to print the following string: **\n",
        "\n",
        "    The diameter of Earth is 12742 kilometers."
      ]
    },
    {
      "cell_type": "code",
      "execution_count": 25,
      "metadata": {
        "collapsed": true,
        "id": "2rK1CCJiPaRV"
      },
      "outputs": [],
      "source": [
        "planet = \"earth\"\n",
        "\n",
        "diameter = 12742\n"
      ]
    },
    {
      "cell_type": "code",
      "execution_count": 26,
      "metadata": {
        "id": "s_dQ7_xc85j_",
        "outputId": "a87571f6-9efa-4388-8663-82e27d28c113",
        "colab": {
          "base_uri": "https://localhost:8080/"
        }
      },
      "outputs": [
        {
          "output_type": "stream",
          "name": "stdout",
          "text": [
            "The diameter of the earth is 12742 kilometers.\n"
          ]
        }
      ],
      "source": [
        "\n",
        "print(\"The diameter of the {} is {} kilometers.\".format(planet , diameter))"
      ]
    },
    {
      "cell_type": "markdown",
      "metadata": {
        "id": "QAKtN7Hh85kB"
      },
      "source": [
        "** Given this nested list, use indexing to grab the word \"hello\" **"
      ]
    },
    {
      "cell_type": "code",
      "execution_count": 23,
      "metadata": {
        "collapsed": true,
        "id": "-7dzQDyK85kD"
      },
      "outputs": [],
      "source": [
        "lst = [1,2,[3,4],[5,[100,200,['hello']],23,11],1,7]"
      ]
    },
    {
      "cell_type": "code",
      "execution_count": 22,
      "metadata": {
        "outputId": "eeb8d230-f0ae-43c7-9e45-cf24f9028903",
        "colab": {
          "base_uri": "https://localhost:8080/"
        },
        "id": "Jd61S4ZRPLn2"
      },
      "outputs": [
        {
          "output_type": "stream",
          "name": "stdout",
          "text": [
            "['hello']\n"
          ]
        }
      ],
      "source": [
        "lst = [1,2,[3,4],[5,[100,200,['hello']],23,11],1,7]\n",
        "\n",
        "print(lst[3][1][2])"
      ]
    },
    {
      "cell_type": "markdown",
      "metadata": {
        "id": "9Ma7M4a185kF"
      },
      "source": [
        "** Given this nest dictionary grab the word \"hello\". Be prepared, this will be annoying/tricky **"
      ]
    },
    {
      "cell_type": "code",
      "execution_count": 21,
      "metadata": {
        "id": "vrYAxSYN85kG"
      },
      "outputs": [],
      "source": [
        "d = {'k1':[1,2,3,{'tricky':['oh','man','inception',{'target':[1,2,3,'hello']}]}]}"
      ]
    },
    {
      "cell_type": "code",
      "execution_count": 20,
      "metadata": {
        "outputId": "32dcc6d1-b3d1-4fd3-d66e-46bc2cdbd533",
        "colab": {
          "base_uri": "https://localhost:8080/"
        },
        "id": "b863VFMuPDkx"
      },
      "outputs": [
        {
          "output_type": "stream",
          "name": "stdout",
          "text": [
            "hello\n"
          ]
        }
      ],
      "source": [
        "d = {'k1':[1,2,3,{'tricky':['oh','man','inception',{'target':[1,2,3,'hello']}]}]}\n",
        "\n",
        "print(d['k1'][3]['tricky'][3]['target'][3])\n"
      ]
    },
    {
      "cell_type": "markdown",
      "metadata": {
        "id": "FInV_FKB85kI"
      },
      "source": [
        "** What is the main difference between a tuple and a list? **"
      ]
    },
    {
      "cell_type": "code",
      "execution_count": 19,
      "metadata": {
        "collapsed": true,
        "id": "A9CIRfL5O91i"
      },
      "outputs": [],
      "source": [
        "#Tuple is immutable\n",
        "# Tuple does not have many built-in methods"
      ]
    },
    {
      "cell_type": "markdown",
      "metadata": {
        "id": "zP-j0HZj85kK"
      },
      "source": [
        "** Create a function that grabs the email website domain from a string in the form: **\n",
        "\n",
        "    user@domain.com\n",
        "    \n",
        "**So for example, passing \"user@domain.com\" would return: domain.com**"
      ]
    },
    {
      "cell_type": "code",
      "execution_count": 17,
      "metadata": {
        "collapsed": true,
        "id": "ODM-SRoZOZ_e"
      },
      "outputs": [],
      "source": [
        "def domainGet(email):\n",
        "    return email.split('@')[-1]"
      ]
    },
    {
      "cell_type": "code",
      "execution_count": 18,
      "metadata": {
        "outputId": "e8f07970-606a-450e-ce02-86337437e59b",
        "colab": {
          "base_uri": "https://localhost:8080/",
          "height": 35
        },
        "id": "gN_x7BFvOcz4"
      },
      "outputs": [
        {
          "output_type": "execute_result",
          "data": {
            "text/plain": [
              "'domain.com'"
            ],
            "application/vnd.google.colaboratory.intrinsic+json": {
              "type": "string"
            }
          },
          "metadata": {},
          "execution_count": 18
        }
      ],
      "source": [
        "domainGet('user@domain.com')"
      ]
    },
    {
      "cell_type": "markdown",
      "metadata": {
        "id": "gYydb-y085kM"
      },
      "source": [
        "** Create a basic function that returns True if the word 'dog' is contained in the input string. Don't worry about edge cases like a punctuation being attached to the word dog, but do account for capitalization. **"
      ]
    },
    {
      "cell_type": "code",
      "execution_count": 14,
      "metadata": {
        "collapsed": true,
        "id": "8xr_w62yOM0y"
      },
      "outputs": [],
      "source": [
        "def findDog(st):\n",
        "    return 'dog' in st.lower().split()"
      ]
    },
    {
      "cell_type": "code",
      "execution_count": 15,
      "metadata": {
        "outputId": "aff35fbb-4bf1-4ca8-8204-cfdd6167ff51",
        "colab": {
          "base_uri": "https://localhost:8080/"
        },
        "id": "v-9FT1ltORE8"
      },
      "outputs": [
        {
          "output_type": "execute_result",
          "data": {
            "text/plain": [
              "True"
            ]
          },
          "metadata": {},
          "execution_count": 15
        }
      ],
      "source": [
        "findDog('Is there a dog here?')"
      ]
    },
    {
      "cell_type": "markdown",
      "metadata": {
        "id": "AyHQFALC85kO"
      },
      "source": [
        "** Create a function that counts the number of times the word \"dog\" occurs in a string. Again ignore edge cases. **"
      ]
    },
    {
      "cell_type": "code",
      "execution_count": 11,
      "metadata": {
        "id": "nb_jTn8DNhKH"
      },
      "outputs": [],
      "source": [
        "def countDog(st):\n",
        "    count = 0\n",
        "    for word in st.lower().split():\n",
        "        if word == 'dog':\n",
        "            count += 1\n",
        "    return count"
      ]
    },
    {
      "cell_type": "code",
      "execution_count": 12,
      "metadata": {
        "outputId": "49637ee9-fa8b-4906-f701-49c37409667b",
        "colab": {
          "base_uri": "https://localhost:8080/"
        },
        "id": "-hj2c6mENvQ2"
      },
      "outputs": [
        {
          "output_type": "execute_result",
          "data": {
            "text/plain": [
              "2"
            ]
          },
          "metadata": {},
          "execution_count": 12
        }
      ],
      "source": [
        "countDog('This dog runs faster than the other dog dude!')"
      ]
    },
    {
      "cell_type": "markdown",
      "metadata": {
        "id": "3n7jJt4k85kP"
      },
      "source": [
        "### Problem\n",
        "**You are driving a little too fast, and a police officer stops you. Write a function\n",
        "  to return one of 3 possible results: \"No ticket\", \"Small ticket\", or \"Big Ticket\". \n",
        "  If your speed is 60 or less, the result is \"No Ticket\". If speed is between 61 \n",
        "  and 80 inclusive, the result is \"Small Ticket\". If speed is 81 or more, the result is \"Big    Ticket\". Unless it is your birthday (encoded as a boolean value in the parameters of the function) -- on your birthday, your speed can be 5 higher in all \n",
        "  cases. **"
      ]
    },
    {
      "cell_type": "code",
      "execution_count": null,
      "metadata": {
        "collapsed": true,
        "id": "nvXMkvWk85kQ"
      },
      "outputs": [],
      "source": [
        "def caught_speeding(speed, is_birthday):\n",
        "    \n",
        "    if is_birthday:\n",
        "        speeding = speed - 5\n",
        "    else:\n",
        "        speeding = speed\n",
        "    \n",
        "    if speeding > 80:\n",
        "        return 'Big Ticket'\n",
        "    elif speeding > 60:\n",
        "        return 'Small Ticket'\n",
        "    else:\n",
        "        return 'No Ticket'"
      ]
    },
    {
      "cell_type": "code",
      "execution_count": 13,
      "metadata": {
        "id": "p1AGJ7DM85kR"
      },
      "outputs": [],
      "source": []
    },
    {
      "cell_type": "code",
      "execution_count": null,
      "metadata": {
        "id": "BU_UZcyk85kS",
        "outputId": "f8e47434-0ffe-417c-8d75-88cf47be9a84",
        "colab": {
          "base_uri": "https://localhost:8080/",
          "height": 36
        }
      },
      "outputs": [
        {
          "output_type": "execute_result",
          "data": {
            "text/plain": [
              "'Big Ticket'"
            ],
            "application/vnd.google.colaboratory.intrinsic+json": {
              "type": "string"
            }
          },
          "metadata": {},
          "execution_count": 22
        }
      ],
      "source": [
        "caught_speeding(81,False)"
      ]
    },
    {
      "cell_type": "code",
      "execution_count": null,
      "metadata": {
        "outputId": "b21a93a9-9aad-4926-a472-9b69e4095a4e",
        "colab": {
          "base_uri": "https://localhost:8080/",
          "height": 36
        },
        "id": "ms-4SMrEMpjU"
      },
      "outputs": [
        {
          "output_type": "execute_result",
          "data": {
            "text/plain": [
              "'Small Ticket'"
            ],
            "application/vnd.google.colaboratory.intrinsic+json": {
              "type": "string"
            }
          },
          "metadata": {},
          "execution_count": 23
        }
      ],
      "source": [
        "caught_speeding(81,True)"
      ]
    },
    {
      "cell_type": "markdown",
      "source": [
        "Create an employee list with basic salary values(at least 5 values for 5 employees)  and using a for loop retreive each employee salary and calculate total salary expenditure. "
      ],
      "metadata": {
        "id": "Tie4rC7_kAOC"
      }
    },
    {
      "cell_type": "code",
      "source": [],
      "metadata": {
        "id": "vl3U-1ckNDUq"
      },
      "execution_count": null,
      "outputs": []
    },
    {
      "cell_type": "code",
      "source": [
        "import pandas as pd\n",
        "\n",
        "\n",
        "lst = ['Vishal', 'prince', 'sanjay', 'praveen', 'Tom']\n",
        "\n",
        "\n",
        "lst2 = [15000, 20000, 25000, 29000, 33000]\n",
        "\n",
        "\n",
        "df = pd.DataFrame(list(zip(lst, lst2)),\n",
        "\t\t\tcolumns =['Name', 'Salary'])\n",
        "df\n"
      ],
      "metadata": {
        "colab": {
          "base_uri": "https://localhost:8080/",
          "height": 206
        },
        "outputId": "9e314b32-2bb9-4f2a-df1f-70c44763902a",
        "id": "OHI2abVkNJLd"
      },
      "execution_count": 10,
      "outputs": [
        {
          "output_type": "execute_result",
          "data": {
            "text/plain": [
              "      Name  Salary\n",
              "0   Vishal   15000\n",
              "1   prince   20000\n",
              "2   sanjay   25000\n",
              "3  praveen   29000\n",
              "4      Tom   33000"
            ],
            "text/html": [
              "\n",
              "  <div id=\"df-1ab4be74-ea41-4512-bcc4-f4171b340319\">\n",
              "    <div class=\"colab-df-container\">\n",
              "      <div>\n",
              "<style scoped>\n",
              "    .dataframe tbody tr th:only-of-type {\n",
              "        vertical-align: middle;\n",
              "    }\n",
              "\n",
              "    .dataframe tbody tr th {\n",
              "        vertical-align: top;\n",
              "    }\n",
              "\n",
              "    .dataframe thead th {\n",
              "        text-align: right;\n",
              "    }\n",
              "</style>\n",
              "<table border=\"1\" class=\"dataframe\">\n",
              "  <thead>\n",
              "    <tr style=\"text-align: right;\">\n",
              "      <th></th>\n",
              "      <th>Name</th>\n",
              "      <th>Salary</th>\n",
              "    </tr>\n",
              "  </thead>\n",
              "  <tbody>\n",
              "    <tr>\n",
              "      <th>0</th>\n",
              "      <td>Vishal</td>\n",
              "      <td>15000</td>\n",
              "    </tr>\n",
              "    <tr>\n",
              "      <th>1</th>\n",
              "      <td>prince</td>\n",
              "      <td>20000</td>\n",
              "    </tr>\n",
              "    <tr>\n",
              "      <th>2</th>\n",
              "      <td>sanjay</td>\n",
              "      <td>25000</td>\n",
              "    </tr>\n",
              "    <tr>\n",
              "      <th>3</th>\n",
              "      <td>praveen</td>\n",
              "      <td>29000</td>\n",
              "    </tr>\n",
              "    <tr>\n",
              "      <th>4</th>\n",
              "      <td>Tom</td>\n",
              "      <td>33000</td>\n",
              "    </tr>\n",
              "  </tbody>\n",
              "</table>\n",
              "</div>\n",
              "      <button class=\"colab-df-convert\" onclick=\"convertToInteractive('df-1ab4be74-ea41-4512-bcc4-f4171b340319')\"\n",
              "              title=\"Convert this dataframe to an interactive table.\"\n",
              "              style=\"display:none;\">\n",
              "        \n",
              "  <svg xmlns=\"http://www.w3.org/2000/svg\" height=\"24px\"viewBox=\"0 0 24 24\"\n",
              "       width=\"24px\">\n",
              "    <path d=\"M0 0h24v24H0V0z\" fill=\"none\"/>\n",
              "    <path d=\"M18.56 5.44l.94 2.06.94-2.06 2.06-.94-2.06-.94-.94-2.06-.94 2.06-2.06.94zm-11 1L8.5 8.5l.94-2.06 2.06-.94-2.06-.94L8.5 2.5l-.94 2.06-2.06.94zm10 10l.94 2.06.94-2.06 2.06-.94-2.06-.94-.94-2.06-.94 2.06-2.06.94z\"/><path d=\"M17.41 7.96l-1.37-1.37c-.4-.4-.92-.59-1.43-.59-.52 0-1.04.2-1.43.59L10.3 9.45l-7.72 7.72c-.78.78-.78 2.05 0 2.83L4 21.41c.39.39.9.59 1.41.59.51 0 1.02-.2 1.41-.59l7.78-7.78 2.81-2.81c.8-.78.8-2.07 0-2.86zM5.41 20L4 18.59l7.72-7.72 1.47 1.35L5.41 20z\"/>\n",
              "  </svg>\n",
              "      </button>\n",
              "      \n",
              "  <style>\n",
              "    .colab-df-container {\n",
              "      display:flex;\n",
              "      flex-wrap:wrap;\n",
              "      gap: 12px;\n",
              "    }\n",
              "\n",
              "    .colab-df-convert {\n",
              "      background-color: #E8F0FE;\n",
              "      border: none;\n",
              "      border-radius: 50%;\n",
              "      cursor: pointer;\n",
              "      display: none;\n",
              "      fill: #1967D2;\n",
              "      height: 32px;\n",
              "      padding: 0 0 0 0;\n",
              "      width: 32px;\n",
              "    }\n",
              "\n",
              "    .colab-df-convert:hover {\n",
              "      background-color: #E2EBFA;\n",
              "      box-shadow: 0px 1px 2px rgba(60, 64, 67, 0.3), 0px 1px 3px 1px rgba(60, 64, 67, 0.15);\n",
              "      fill: #174EA6;\n",
              "    }\n",
              "\n",
              "    [theme=dark] .colab-df-convert {\n",
              "      background-color: #3B4455;\n",
              "      fill: #D2E3FC;\n",
              "    }\n",
              "\n",
              "    [theme=dark] .colab-df-convert:hover {\n",
              "      background-color: #434B5C;\n",
              "      box-shadow: 0px 1px 3px 1px rgba(0, 0, 0, 0.15);\n",
              "      filter: drop-shadow(0px 1px 2px rgba(0, 0, 0, 0.3));\n",
              "      fill: #FFFFFF;\n",
              "    }\n",
              "  </style>\n",
              "\n",
              "      <script>\n",
              "        const buttonEl =\n",
              "          document.querySelector('#df-1ab4be74-ea41-4512-bcc4-f4171b340319 button.colab-df-convert');\n",
              "        buttonEl.style.display =\n",
              "          google.colab.kernel.accessAllowed ? 'block' : 'none';\n",
              "\n",
              "        async function convertToInteractive(key) {\n",
              "          const element = document.querySelector('#df-1ab4be74-ea41-4512-bcc4-f4171b340319');\n",
              "          const dataTable =\n",
              "            await google.colab.kernel.invokeFunction('convertToInteractive',\n",
              "                                                     [key], {});\n",
              "          if (!dataTable) return;\n",
              "\n",
              "          const docLinkHtml = 'Like what you see? Visit the ' +\n",
              "            '<a target=\"_blank\" href=https://colab.research.google.com/notebooks/data_table.ipynb>data table notebook</a>'\n",
              "            + ' to learn more about interactive tables.';\n",
              "          element.innerHTML = '';\n",
              "          dataTable['output_type'] = 'display_data';\n",
              "          await google.colab.output.renderOutput(dataTable, element);\n",
              "          const docLink = document.createElement('div');\n",
              "          docLink.innerHTML = docLinkHtml;\n",
              "          element.appendChild(docLink);\n",
              "        }\n",
              "      </script>\n",
              "    </div>\n",
              "  </div>\n",
              "  "
            ]
          },
          "metadata": {},
          "execution_count": 10
        }
      ]
    },
    {
      "cell_type": "code",
      "source": [],
      "metadata": {
        "id": "R5-CdXSKjacN"
      },
      "execution_count": null,
      "outputs": []
    },
    {
      "cell_type": "markdown",
      "source": [
        "Create two dictionaries in Python:\n",
        "\n",
        "First one to contain fields as Empid,  Empname,  Basicpay\n",
        "\n",
        "Second dictionary to contain fields as DeptName,  DeptId.\n",
        "\n",
        "Combine both dictionaries. "
      ],
      "metadata": {
        "id": "-L1aiFqRkF5s"
      }
    },
    {
      "cell_type": "code",
      "source": [],
      "metadata": {
        "id": "8ugVoEe0kOsk"
      },
      "execution_count": 2,
      "outputs": []
    },
    {
      "cell_type": "code",
      "source": [
        "d1 = {\"Empid\" : 10173, \"Empname\" : 'Vishal', \"Basicpay\" : 30100}\n",
        "d2 = {\"DeptName\" : 'Biotechnology', \"DeptId\" : 1362}\n",
        "dict(list(d1.items()) + list(d2.items()))"
      ],
      "metadata": {
        "colab": {
          "base_uri": "https://localhost:8080/"
        },
        "outputId": "25bd9445-1551-4c72-8a82-10c40ada2a88",
        "id": "u0XNC8vkME6j"
      },
      "execution_count": 3,
      "outputs": [
        {
          "output_type": "execute_result",
          "data": {
            "text/plain": [
              "{'Empid': 10173,\n",
              " 'Empname': 'Vishal',\n",
              " 'Basicpay': 30100,\n",
              " 'DeptName': 'Biotechnology',\n",
              " 'DeptId': 1362}"
            ]
          },
          "metadata": {},
          "execution_count": 3
        }
      ]
    }
  ],
  "metadata": {
    "colab": {
      "provenance": []
    },
    "kernelspec": {
      "display_name": "Python 3",
      "language": "python",
      "name": "python3"
    },
    "language_info": {
      "codemirror_mode": {
        "name": "ipython",
        "version": 3
      },
      "file_extension": ".py",
      "mimetype": "text/x-python",
      "name": "python",
      "nbconvert_exporter": "python",
      "pygments_lexer": "ipython3",
      "version": "3.8.5"
    }
  },
  "nbformat": 4,
  "nbformat_minor": 0
}